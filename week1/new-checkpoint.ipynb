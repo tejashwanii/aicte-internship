{
 "cells": [
  {
   "cell_type": "code",
   "execution_count": 5,
   "id": "5aa9a6bb-b0ef-4a7c-9526-313212bb8cb9",
   "metadata": {},
   "outputs": [],
   "source": [
    "import tensorflow as tf"
   ]
  },
  {
   "cell_type": "code",
   "execution_count": 3,
   "id": "fee47337-8665-4c74-98d9-9f754bd083c4",
   "metadata": {},
   "outputs": [
    {
     "name": "stdout",
     "output_type": "stream",
     "text": [
      "Found 74 files belonging to 6 classes.\n",
      "Using 60 files for training.\n",
      "['cardboard', 'glass', 'metal', 'paper', 'plastic', 'trash']\n"
     ]
    }
   ],
   "source": [
    "import zipfile\n",
    "import tensorflow as tf\n",
    "\n",
    "with zipfile.ZipFile(r\"C:\\Users\\Lenovo\\Downloads\\garbage.zip\", 'r') as zip_ref:\n",
    "    zip_ref.extractall(\"dataset\")\n",
    "    dataset_dir = \"dataset/garbage/TrashType_Image_Dataset\"\n",
    "train_ds = tf.keras.utils.image_dataset_from_directory(\n",
    "    dataset_dir,\n",
    "    validation_split=0.2,\n",
    "    subset=\"training\",\n",
    "    seed=42,\n",
    "    shuffle=True,\n",
    "    image_size=(124, 124),\n",
    "    batch_size=32\n",
    ")\n",
    "print(train_ds.class_names)   \n"
   ]
  },
  {
   "cell_type": "code",
   "execution_count": null,
   "id": "6d484db3-9a95-4134-9669-c39d74068ea0",
   "metadata": {},
   "outputs": [],
   "source": []
  }
 ],
 "metadata": {
  "kernelspec": {
   "display_name": "Python [conda env:base] *",
   "language": "python",
   "name": "conda-base-py"
  },
  "language_info": {
   "codemirror_mode": {
    "name": "ipython",
    "version": 3
   },
   "file_extension": ".py",
   "mimetype": "text/x-python",
   "name": "python",
   "nbconvert_exporter": "python",
   "pygments_lexer": "ipython3",
   "version": "3.12.7"
  }
 },
 "nbformat": 4,
 "nbformat_minor": 5
}
